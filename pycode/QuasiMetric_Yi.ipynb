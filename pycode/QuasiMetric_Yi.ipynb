{
 "cells": [
  {
   "cell_type": "code",
   "execution_count": 2,
   "metadata": {},
   "outputs": [],
   "source": [
    "import numpy as np"
   ]
  },
  {
   "cell_type": "code",
   "execution_count": 3,
   "metadata": {},
   "outputs": [],
   "source": [
    "def get_subWordSet(input_string):\n",
    "    length = len(input_string)\n",
    "    return set([input_string[i: j + 1] for i in range(length) for j in range(i, length)])\n",
    "\n",
    "\n",
    "def get_weightedJac(R1, R2, \n",
    "                    get_weight=None, *, \n",
    "                    symbol_weight_map=None, \n",
    "                    verbose=False):\n",
    "    \"\"\"\n",
    "    Calculate the (weighted) Jaccard distance between two formatted medical histories.\n",
    "    \"\"\"\n",
    "    if get_weight is None:\n",
    "        get_weight = lambda seq: 1\n",
    "    \n",
    "    if get_weight == 'linear':\n",
    "        get_weight = lambda seq: np.array([symbol_weight_map[s] for s in seq]).sum()\n",
    "    \n",
    "    S1 = get_subWordSet(R1)\n",
    "    S2 = get_subWordSet(R2)\n",
    "    union = S1.union(S2)\n",
    "    intersection = S1.intersection(S2)\n",
    "    \n",
    "    if verbose:\n",
    "        print('S1: {}'.format(S1))\n",
    "        print('S2: {}'.format(S2))\n",
    "        print('Union: {}'.format(union))\n",
    "        print('Intersection: {}'.format(intersection))\n",
    "    \n",
    "    weight_union = 0\n",
    "    weight_intersection = 0\n",
    "    for seq in union:\n",
    "        weight = get_weight(seq)\n",
    "        weight_union += weight\n",
    "        if seq in intersection:\n",
    "            weight_intersection += weight\n",
    "    \n",
    "    return 1.0 - float(weight_intersection) / float(weight_union)"
   ]
  },
  {
   "cell_type": "code",
   "execution_count": 17,
   "metadata": {},
   "outputs": [],
   "source": [
    "def get_all_weightedJac(R1, R2, \n",
    "                        get_weight=None, *,\n",
    "                        end_time=None,\n",
    "                        symbol_weight_map=None):\n",
    "    \"\"\"\n",
    "    Calculate the (weighted) trancated Jaccard distance between two formatted medical histories.\n",
    "    \"\"\"\n",
    "    if get_weight is None:\n",
    "        get_weight = lambda seq: 1\n",
    "    \n",
    "    if get_weight == 'linear':\n",
    "        get_weight = lambda seq: np.array([symbol_weight_map[s] for s in seq]).sum()\n",
    "    \n",
    "    if end_time == None:\n",
    "        end_time = min(len(R1), len(R2))\n",
    "        \n",
    "    union = {}\n",
    "    weight_union = 0\n",
    "    weight_intersection = 0\n",
    "    distances = []\n",
    "    \n",
    "    for time in range(1, end_time):\n",
    "        \n",
    "        for t in range(1, time):\n",
    "            word1 = R1[time - t: time]\n",
    "            word2 = R2[time - t: time]\n",
    "            \n",
    "            if word1 in union:\n",
    "                if union[word1][0] == '2':\n",
    "                    weight = union[word1][1]\n",
    "                    weight_union -= weight\n",
    "                    weight_intersection += weight\n",
    "                    union.pop(word1)\n",
    "            else:\n",
    "                union[word1] = ['1', get_weight(word1)]\n",
    "                \n",
    "            if word2 in union:\n",
    "                if union[word2][0] == '1':\n",
    "                    weight = union[word2][1]\n",
    "                    weight_union -= weight\n",
    "                    weight_intersection += weight\n",
    "                    union.pop(word2)\n",
    "            else:\n",
    "                union[word2] = ['2', get_weight(word2)]\n",
    "            \n",
    "            \n",
    "        distance = 1.0 - float(weight_intersection) / float(weight_union)\n",
    "        distances.append(distance)\n",
    "        \n",
    "    return np.array(distances)"
   ]
  },
  {
   "cell_type": "code",
   "execution_count": 18,
   "metadata": {},
   "outputs": [
    {
     "ename": "ZeroDivisionError",
     "evalue": "float division by zero",
     "output_type": "error",
     "traceback": [
      "\u001b[0;31m---------------------------------------------------------------------------\u001b[0m",
      "\u001b[0;31mZeroDivisionError\u001b[0m                         Traceback (most recent call last)",
      "\u001b[0;32m<ipython-input-18-959c55f8efe0>\u001b[0m in \u001b[0;36m<module>\u001b[0;34m()\u001b[0m\n\u001b[1;32m      2\u001b[0m \u001b[0mR1\u001b[0m \u001b[0;34m=\u001b[0m \u001b[0;34m'1222111212221'\u001b[0m\u001b[0;34m\u001b[0m\u001b[0m\n\u001b[1;32m      3\u001b[0m \u001b[0mR2\u001b[0m \u001b[0;34m=\u001b[0m \u001b[0;34m'12121222111121'\u001b[0m\u001b[0;34m\u001b[0m\u001b[0m\n\u001b[0;32m----> 4\u001b[0;31m \u001b[0mget_all_weightedJac\u001b[0m\u001b[0;34m(\u001b[0m\u001b[0mR1\u001b[0m\u001b[0;34m,\u001b[0m \u001b[0mR2\u001b[0m\u001b[0;34m,\u001b[0m \u001b[0mget_weight\u001b[0m\u001b[0;34m=\u001b[0m\u001b[0;34m'linear'\u001b[0m\u001b[0;34m,\u001b[0m \u001b[0msymbol_weight_map\u001b[0m\u001b[0;34m=\u001b[0m\u001b[0msymbol_weight_map\u001b[0m\u001b[0;34m)\u001b[0m\u001b[0;34m\u001b[0m\u001b[0m\n\u001b[0m",
      "\u001b[0;32m<ipython-input-17-edf03a777352>\u001b[0m in \u001b[0;36mget_all_weightedJac\u001b[0;34m(R1, R2, get_weight, end_time, symbol_weight_map)\u001b[0m\n\u001b[1;32m     45\u001b[0m \u001b[0;34m\u001b[0m\u001b[0m\n\u001b[1;32m     46\u001b[0m \u001b[0;34m\u001b[0m\u001b[0m\n\u001b[0;32m---> 47\u001b[0;31m         \u001b[0mdistance\u001b[0m \u001b[0;34m=\u001b[0m \u001b[0;36m1.0\u001b[0m \u001b[0;34m-\u001b[0m \u001b[0mfloat\u001b[0m\u001b[0;34m(\u001b[0m\u001b[0mweight_intersection\u001b[0m\u001b[0;34m)\u001b[0m \u001b[0;34m/\u001b[0m \u001b[0mfloat\u001b[0m\u001b[0;34m(\u001b[0m\u001b[0mweight_union\u001b[0m\u001b[0;34m)\u001b[0m\u001b[0;34m\u001b[0m\u001b[0m\n\u001b[0m\u001b[1;32m     48\u001b[0m         \u001b[0mdistances\u001b[0m\u001b[0;34m.\u001b[0m\u001b[0mappend\u001b[0m\u001b[0;34m(\u001b[0m\u001b[0mdistance\u001b[0m\u001b[0;34m)\u001b[0m\u001b[0;34m\u001b[0m\u001b[0m\n\u001b[1;32m     49\u001b[0m \u001b[0;34m\u001b[0m\u001b[0m\n",
      "\u001b[0;31mZeroDivisionError\u001b[0m: float division by zero"
     ]
    }
   ],
   "source": [
    "symbol_weight_map = {'1': 1, '2': 2}\n",
    "R1 = '1222111212221'\n",
    "R2 = '12121222111121'\n",
    "get_all_weightedJac(R1, R2, get_weight='linear', symbol_weight_map=symbol_weight_map)"
   ]
  },
  {
   "cell_type": "code",
   "execution_count": null,
   "metadata": {},
   "outputs": [],
   "source": [
    "def get_epsilon_neighborhood(dist, epsilon, histories, time):\n",
    "    \"\"\"\n",
    "    \"\"\"\n",
    "    for i in range(num_histories):\n",
    "        indices = np.arange(num_histories)[dist[i] <= epsilon]\n",
    "        histogram = {i: 0 for i in range(num_diseases)}\n",
    "\n",
    "        for idx in indices:\n",
    "            histogram[int(histories[idx][time])] += 1\n",
    "        print('{}:\\t{}'.format(i, histogram))\n",
    "\n",
    "\n",
    "def foo(histories, end_time, prevalence):\n",
    "    for "
   ]
  },
  {
   "cell_type": "markdown",
   "metadata": {},
   "source": [
    "# Generate dummy history"
   ]
  },
  {
   "cell_type": "code",
   "execution_count": 8,
   "metadata": {},
   "outputs": [],
   "source": [
    "length = 50 # Let us assume that histories are of uniform length\n",
    "num_histories = 100\n",
    "num_diseases = 10\n",
    "prevalence = np.array([50, 1, .5, .5, .5, .2, .2, .1, .1, 0.05])\n",
    "prevalence = prevalence / prevalence.sum()"
   ]
  },
  {
   "cell_type": "markdown",
   "metadata": {},
   "source": [
    "## The no-brainer way\n",
    "with which I probably will give a man breast cancer or so... (or a woman prostate cancer, which is even less likely)\n",
    "\n",
    "**Please help me come up more sensable ways of generating dummy medical histories.**"
   ]
  },
  {
   "cell_type": "code",
   "execution_count": 12,
   "metadata": {},
   "outputs": [],
   "source": [
    "matrix = np.random.choice(10, size=(num_histories, length), replace=True, p=prevalence)\n",
    "histories = []\n",
    "for idx, row in enumerate(matrix):\n",
    "    history = ''.join(list(map(str, row)))\n",
    "    # print('{}:\\t{}'.format(idx, history))\n",
    "    histories.append(history)"
   ]
  },
  {
   "cell_type": "code",
   "execution_count": 11,
   "metadata": {},
   "outputs": [],
   "source": [
    "Jaccard = np.zeros((num_histories, num_histories))\n",
    "for i in range(num_histories):\n",
    "    for j in range(i + 1, num_histories):\n",
    "        jac = get_weightedJac(histories[i], histories[j])\n",
    "        # print('{}, {}:\\t{}'.format(i, j, jac))\n",
    "        Jaccard[i][j] = jac\n",
    "        Jaccard[j][i] = jac"
   ]
  },
  {
   "cell_type": "markdown",
   "metadata": {},
   "source": [
    "# Cluster and plot"
   ]
  },
  {
   "cell_type": "code",
   "execution_count": 38,
   "metadata": {},
   "outputs": [],
   "source": [
    "from sklearn.cluster import KMeans, spectral_clustering"
   ]
  },
  {
   "cell_type": "code",
   "execution_count": null,
   "metadata": {},
   "outputs": [],
   "source": [
    "beta = 1.\n",
    "sim = np.exp(-beta * Jaccard / Jaccard.std())\n",
    "labels = spectral_clustering(sim, n_clusters=10, eigen_solver='arpack')\n",
    "sortedIdx = np.argsort(labels)\n",
    "Jsorted=Jaccard[sortedIdx][:,sortedIdx]"
   ]
  },
  {
   "cell_type": "code",
   "execution_count": 39,
   "metadata": {},
   "outputs": [],
   "source": [
    "import matplotlib.pyplot as plt\n",
    "import seaborn as sns"
   ]
  },
  {
   "cell_type": "code",
   "execution_count": 40,
   "metadata": {},
   "outputs": [
    {
     "data": {
      "image/png": "[encoded data removed]",
      "text/plain": [
       "<matplotlib.figure.Figure at 0x7f1a108f4208>"
      ]
     },
     "metadata": {},
     "output_type": "display_data"
    }
   ],
   "source": [
    "sns.heatmap(Jsorted)\n",
    "plt.show()"
   ]
  },
  {
   "cell_type": "code",
   "execution_count": 7,
   "metadata": {},
   "outputs": [],
   "source": [
    "epsilon = .98\n",
    "time = 5\n",
    "get_epsilon_neighborhood(Jaccard, epsilon, histories, time)"
   ]
  },
  {
   "cell_type": "code",
   "execution_count": null,
   "metadata": {},
   "outputs": [],
   "source": []
  }
 ],
 "metadata": {
  "kernelspec": {
   "display_name": "Python 3",
   "language": "python",
   "name": "python3"
  },
  "language_info": {
   "codemirror_mode": {
    "name": "ipython",
    "version": 3
   },
   "file_extension": ".py",
   "mimetype": "text/x-python",
   "name": "python",
   "nbconvert_exporter": "python",
   "pygments_lexer": "ipython3",
   "version": "3.6.1"
  }
 },
 "nbformat": 4,
 "nbformat_minor": 2
}
