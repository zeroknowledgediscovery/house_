{
 "cells": [
  {
   "cell_type": "markdown",
   "metadata": {},
   "source": [
    "# To-do list\n",
    "1. **(Done)** Test running time (only keep the faster one)\n",
    "2. **(Done)** Adjust how weight is calculated"
   ]
  },
  {
   "cell_type": "code",
   "execution_count": 2,
   "metadata": {},
   "outputs": [],
   "source": [
    "import numpy as np"
   ]
  },
  {
   "cell_type": "markdown",
   "metadata": {},
   "source": [
    "# Functions"
   ]
  },
  {
   "cell_type": "code",
   "execution_count": 3,
   "metadata": {},
   "outputs": [],
   "source": [
    "def get_omega(input_string):\n",
    "    length = len(input_string)\n",
    "    return set([input_string[i: j + 1] for i in range(length) for j in range(i, length)])\n",
    "\n",
    "\n",
    "def get_weightedJac(R1, R2, get_weight=None):\n",
    "    \"\"\"\n",
    "    Calculate the (weighted) Jaccard distance between two formatted medical histories.\n",
    "    \"\"\"\n",
    "    if get_weight is None:\n",
    "        get_weight = lambda seq: 1\n",
    "    \n",
    "    O1 = get_omega(R1)\n",
    "    O2 = get_omega(R2)\n",
    "    union = O1.union(O2)\n",
    "    intersection = O1.intersection(O2)\n",
    "    \n",
    "    weight_union = 0\n",
    "    weight_intersection = 0\n",
    "    for seq in union:\n",
    "        weight = get_weight(seq)\n",
    "        weight_union += weight\n",
    "        if seq in intersection:\n",
    "            weight_intersection += weight\n",
    "    \n",
    "    return 1.0 - float(weight_intersection) / float(weight_union)"
   ]
  },
  {
   "cell_type": "markdown",
   "metadata": {},
   "source": [
    "# Tests"
   ]
  },
  {
   "cell_type": "markdown",
   "metadata": {},
   "source": [
    "## Test 1"
   ]
  },
  {
   "cell_type": "code",
   "execution_count": 72,
   "metadata": {},
   "outputs": [
    {
     "name": "stdout",
     "output_type": "stream",
     "text": [
      "0.4285714285714286\n"
     ]
    }
   ],
   "source": [
    "R1 = '0D000' # patient 1 : T1D in year 2\n",
    "R2 = '00D00' # patient 2 : T1D in year 3\n",
    "print(get_weightedJac(R1, R2))"
   ]
  },
  {
   "cell_type": "markdown",
   "metadata": {},
   "source": [
    "## Test 2: with get_weight function"
   ]
  },
  {
   "cell_type": "code",
   "execution_count": 77,
   "metadata": {},
   "outputs": [
    {
     "data": {
      "text/plain": [
       "0.9786506373717484"
      ]
     },
     "execution_count": 77,
     "metadata": {},
     "output_type": "execute_result"
    }
   ],
   "source": [
    "R1 = 'ATCGTCTTACTCCAGCATGCTGATCTGATGCC'\n",
    "R2 = 'ACTCCAACTGTCCATGAGCTGATCTGCTTCGT'\n",
    "\n",
    "def get_weight(seq):\n",
    "    weight_dict = {'A': 1, 'T': 2, 'C': 3, 'G': 4}\n",
    "    weight = 0\n",
    "    for letter in seq:\n",
    "        weight += weight_dict[letter]\n",
    "    return weight\n",
    "\n",
    "get_weightedJac(R1, R2, get_weight)"
   ]
  },
  {
   "cell_type": "markdown",
   "metadata": {},
   "source": [
    "## Test 3: Calculate running time"
   ]
  },
  {
   "cell_type": "code",
   "execution_count": 78,
   "metadata": {},
   "outputs": [
    {
     "name": "stdout",
     "output_type": "stream",
     "text": [
      "2.130 seconds\n"
     ]
    }
   ],
   "source": [
    "import time\n",
    "start_time = time.clock()\n",
    "\n",
    "R1 = 'ATCGTCTTACTCCAGCAATCGTCTTACTCCAGCATGCTGATCTGATGCCTGCTGATCTGATGCC'\n",
    "R2 = 'ACTCCAACTGTCCATGAGCACTCCAACTGTCCATGAGCTGATCTGCTTCGTTGATCTGCTTCGT'\n",
    "\n",
    "num_runs = 1000\n",
    "for i in range(num_runs):\n",
    "    get_weightedJac(R1, R2)\n",
    "\n",
    "print('{:.3f} seconds'.format(time.clock() - start_time))"
   ]
  },
  {
   "cell_type": "code",
   "execution_count": null,
   "metadata": {},
   "outputs": [],
   "source": []
  }
 ],
 "metadata": {
  "kernelspec": {
   "display_name": "Python 3",
   "language": "python",
   "name": "python3"
  },
  "language_info": {
   "codemirror_mode": {
    "name": "ipython",
    "version": 3
   },
   "file_extension": ".py",
   "mimetype": "text/x-python",
   "name": "python",
   "nbconvert_exporter": "python",
   "pygments_lexer": "ipython3",
   "version": "3.6.1"
  }
 },
 "nbformat": 4,
 "nbformat_minor": 2
}
