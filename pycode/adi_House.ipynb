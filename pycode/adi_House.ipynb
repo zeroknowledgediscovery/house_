{
 "cells": [
  {
   "cell_type": "code",
   "execution_count": 1,
   "metadata": {},
   "outputs": [],
   "source": [
    "import numpy as np\n",
    "import time"
   ]
  },
  {
   "cell_type": "markdown",
   "metadata": {},
   "source": [
    "## Definition 4"
   ]
  },
  {
   "cell_type": "code",
   "execution_count": 2,
   "metadata": {},
   "outputs": [],
   "source": [
    "def subword_subset(a,n):\n",
    "    \n",
    "    split_list = []\n",
    "    len_a = len(a)\n",
    "    for i in range(len_a):\n",
    "        delim = len_a - i\n",
    "        if delim < n:\n",
    "            break\n",
    "        split_list.append(a[i:i+n]) \n",
    "    return split_list\n",
    "\n",
    "def Omega(arr):\n",
    "\n",
    "#     t0 = time.time()\n",
    "    \n",
    "    subword_set = []\n",
    "    for i in range(1, len(arr)):\n",
    "        subword_set.extend(subword_subset(arr, i))\n",
    "    subword_set.append(arr)\n",
    "    \n",
    "#     t1 = time.time()\n",
    "#     print(\"Total time elapsed: \", t1-t0)\n",
    "    \n",
    "    return subword_set\n",
    "\n",
    "for i in range(10):\n",
    "    Omega('001010')"
   ]
  },
  {
   "cell_type": "code",
   "execution_count": 3,
   "metadata": {},
   "outputs": [
    {
     "name": "stdout",
     "output_type": "stream",
     "text": [
      "['0', '0', '1', '0', '1', '0', '00', '01', '10', '01', '10', '001', '010', '101', '010', '0010', '0101', '1010', '00101', '01010', '001010']\n"
     ]
    }
   ],
   "source": [
    "Omega1 = Omega('001010')\n",
    "print(Omega1)\n",
    "Omega2 = Omega('002020')"
   ]
  },
  {
   "cell_type": "markdown",
   "metadata": {},
   "source": [
    "## Previous implementation of Defn 4 \n",
    "##### Note the difference in efficiency "
   ]
  },
  {
   "cell_type": "code",
   "execution_count": 4,
   "metadata": {
    "scrolled": true
   },
   "outputs": [
    {
     "data": {
      "text/plain": [
       "array(['34', '3', '4'], dtype='|S2')"
      ]
     },
     "execution_count": 4,
     "metadata": {},
     "output_type": "execute_result"
    }
   ],
   "source": [
    "def subword_len(a,n=1):\n",
    "    \n",
    "    split_list = [a[i:i+n] for i in range(0, len(a), 1)]\n",
    "    \n",
    "    return [x  for x in split_list if len(x) == n and len(x)>0]\n",
    "\n",
    "def subword(a):\n",
    "    #t0 = time.time()\n",
    "    try:\n",
    "        b=[a]\n",
    "        nmax=len(a)\n",
    "        for n in range(nmax):\n",
    "            c=subword_len(a,n)\n",
    "            if len(c)>0:\n",
    "                b=np.append(b,c)\n",
    "        return b\n",
    "\n",
    "    except: \n",
    "        return b\n",
    "\n",
    "    #t1 = time.time()\n",
    "    #print(\"Total time elapsed: \", t1-t0)\n",
    "\n",
    "subword('34')\n",
    "# for i in range(10):\n",
    "#     print(subword('001010'))"
   ]
  },
  {
   "cell_type": "markdown",
   "metadata": {},
   "source": [
    "## Definition 5 - Jacard Similarity\n",
    "\n",
    "##### Same as prior implementation as per ishanuc"
   ]
  },
  {
   "cell_type": "code",
   "execution_count": 5,
   "metadata": {},
   "outputs": [],
   "source": [
    "def get_unweightedJac(S1,S2):\n",
    "    return (len(set(S1).union(S2))-len(set(S1).intersection(S2)))/(0.0+len(set(S1).union(S2)))"
   ]
  },
  {
   "cell_type": "markdown",
   "metadata": {},
   "source": [
    "# Definition 6 - Weighted Jacard Sequential Distance"
   ]
  },
  {
   "cell_type": "code",
   "execution_count": 6,
   "metadata": {},
   "outputs": [
    {
     "name": "stdout",
     "output_type": "stream",
     "text": [
      "('100 runs list: ', 0.00031638145446777344)\n",
      "('100 runs list alt: ', 0.0001671314239501953)\n",
      "('100 runs set: ', 0.00020956993103027344)\n"
     ]
    }
   ],
   "source": [
    "def sum_weight_list(a):\n",
    "    t0 = time.time()\n",
    "    for i in range(len(a)):\n",
    "        a[i]\n",
    "    t1 = time.time()\n",
    "   #print(\"list time: \", t1 - t0)\n",
    "    return t1 - t0\n",
    "\n",
    "def sum_weight_list_alt(a):\n",
    "    t0 = time.time()\n",
    "    for fish in a:\n",
    "        fish\n",
    "    t1 = time.time()\n",
    "    #print(\"list alt time: \", t1 - t0)\n",
    "    return t1 - t0\n",
    "    \n",
    "def sum_weight_set(a):\n",
    "    t0 = time.time()\n",
    "    for fish in a:\n",
    "        fish\n",
    "    t1 = time.time()\n",
    "    #print(\"set time: \", t1 - t0)\n",
    "    return t1 - t0\n",
    "\n",
    "listtime = 0\n",
    "listalttime = 0\n",
    "settime = 0\n",
    "for i in range(100):\n",
    "    listtime += sum_weight_list(list(set(Omega1).union(Omega2)))\n",
    "    listalttime += sum_weight_list_alt(list(set(Omega1).union(Omega2)))\n",
    "    settime += sum_weight_set(set(Omega1).union(Omega2))\n",
    "\n",
    "print(\"100 runs list: \", listtime)\n",
    "print(\"100 runs list alt: \", listalttime)\n",
    "print(\"100 runs set: \", settime)"
   ]
  },
  {
   "cell_type": "code",
   "execution_count": 7,
   "metadata": {},
   "outputs": [],
   "source": [
    "def get_weightedJac(S1,S2, sum_weight):\n",
    "    sum_weight_union = sum_weight(list(set(S1).union(S2)))\n",
    "    return (sum_weight_union - sum_weight(list(set(S1).intersection(S2))))/(0.0+sum_weight_union)"
   ]
  },
  {
   "cell_type": "markdown",
   "metadata": {},
   "source": [
    "# Generate rando data"
   ]
  },
  {
   "cell_type": "code",
   "execution_count": 8,
   "metadata": {},
   "outputs": [
    {
     "data": {
      "text/plain": [
       "array([[0, 4, 0],\n",
       "       [2, 0, 4],\n",
       "       [1, 3, 2]])"
      ]
     },
     "execution_count": 8,
     "metadata": {},
     "output_type": "execute_result"
    }
   ],
   "source": [
    "p0 = np.asarray([0.1, 0.05, 0.05, 0.2, 0.4, 0.2])\n",
    "dummy = np.random.choice(np.arange(0, 6), size = (3,3),p = p0)\n",
    "dummy"
   ]
  },
  {
   "cell_type": "code",
   "execution_count": 9,
   "metadata": {},
   "outputs": [
    {
     "name": "stdout",
     "output_type": "stream",
     "text": [
      "(3,)\n"
     ]
    }
   ],
   "source": [
    "print(dummy[:,0].shape)"
   ]
  },
  {
   "cell_type": "code",
   "execution_count": 10,
   "metadata": {},
   "outputs": [
    {
     "name": "stdout",
     "output_type": "stream",
     "text": [
      "[2 0 4]\n"
     ]
    },
    {
     "data": {
      "text/plain": [
       "array([[0.        , 0.33333333, 1.        ],\n",
       "       [0.33333333, 0.        , 0.8       ],\n",
       "       [1.        , 0.8       , 0.        ]])"
      ]
     },
     "execution_count": 10,
     "metadata": {},
     "output_type": "execute_result"
    }
   ],
   "source": [
    "# make sure to weight each sequence by population prevalence \n",
    "# (basically use the probability vector that we will be shifting around)\n",
    "# Implement the weighted Jacard Later\n",
    "\n",
    "def weight(p0_vector, i):\n",
    "    return 1/p0_vector[i]\n",
    "\n",
    "def jacMatrix(vec):\n",
    "    length = vec.shape[0]\n",
    "    jac_mat = np.zeros(shape = (length, length))\n",
    "    print(vec[1])\n",
    "    for i in range(length):\n",
    "        for j in range(length):\n",
    "            jac_mat[i][j] = get_unweightedJac(subword(vec[i]), subword(vec[j]))\n",
    "    return jac_mat\n",
    "                       \n",
    "    \n",
    "    \n",
    "    \n",
    "test_jac = jacMatrix(dummy)\n",
    "test_jac        "
   ]
  },
  {
   "cell_type": "markdown",
   "metadata": {},
   "source": [
    "# Quasi Metric"
   ]
  },
  {
   "cell_type": "code",
   "execution_count": 11,
   "metadata": {},
   "outputs": [
    {
     "data": {
      "text/plain": [
       "{0: 0.1, 1: 0.05, 2: 0.05, 3: 0.2, 4: 0.4, 5: 0.2}"
      ]
     },
     "execution_count": 11,
     "metadata": {},
     "output_type": "execute_result"
    }
   ],
   "source": [
    "# reverse dictionary that assigns probability from original probability vector \n",
    "# to an index for use in next fn\n",
    "def prob_reverse(prob_vec):\n",
    "    rev_probs = {}\n",
    "    for i in range(prob_vec.shape[0]):\n",
    "        rev_probs[i] = prob_vec[i]\n",
    "    return rev_probs\n",
    "\n",
    "\n",
    "\n",
    "\n",
    "rev_dict = prob_reverse(p0)\n",
    "rev_dict"
   ]
  },
  {
   "cell_type": "code",
   "execution_count": 12,
   "metadata": {},
   "outputs": [
    {
     "data": {
      "text/plain": [
       "{0: 0.1, 1: 0.05, 2: 0.05}"
      ]
     },
     "execution_count": 12,
     "metadata": {},
     "output_type": "execute_result"
    }
   ],
   "source": [
    "# reverse dictionary that assigns probability to indexed history\n",
    "# we initialize this then we, in the future only edit the hist_prob_dict for future histories\n",
    "def hist_probs(histories, prob_dict):\n",
    "    hist_prob = {}\n",
    "    for i in range(histories.shape[0]):\n",
    "        hist_prob[i] = prob_dict[histories[i][0]]\n",
    "    return hist_prob\n",
    "\n",
    "\n",
    "\n",
    "\n",
    "hist_prob = hist_probs(dummy, rev_dict)\n",
    "hist_prob"
   ]
  },
  {
   "cell_type": "code",
   "execution_count": 13,
   "metadata": {},
   "outputs": [
    {
     "data": {
      "text/plain": [
       "19.0"
      ]
     },
     "execution_count": 13,
     "metadata": {},
     "output_type": "execute_result"
    }
   ],
   "source": [
    "# quasi metric matrix normalization constant\n",
    "def qm_matrix_normalization(hist_probs, i, j):\n",
    "    return .5 * (((1/hist_probs[i]) + (1/hist_probs[j])) - 2)\n",
    "\n",
    "\n",
    "\n",
    "\n",
    "test = qm_matrix_normalization(hist_prob, 1, 1)\n",
    "test"
   ]
  },
  {
   "cell_type": "code",
   "execution_count": 14,
   "metadata": {},
   "outputs": [
    {
     "data": {
      "text/plain": [
       "array([[ 0.        ,  4.66666667, 14.        ],\n",
       "       [ 4.66666667,  0.        , 15.2       ],\n",
       "       [14.        , 15.2       ,  0.        ]])"
      ]
     },
     "execution_count": 14,
     "metadata": {},
     "output_type": "execute_result"
    }
   ],
   "source": [
    "# takes in jacard matrix and probabilty vector\n",
    "# returns quasi metric matrix\n",
    "# remember we have not used the weight fn, so this needs to be later implemented\n",
    "# can combine later with jac_matrix maker so we dont have to do 2 runs of matrix\n",
    "def qm_Matrix(vec, jac_mat, prob_dict):\n",
    "    length = jac_mat.shape[0]\n",
    "    qm_mat = np.zeros(shape = (length, length))\n",
    "    for i in range(length):\n",
    "        for j in range(length):\n",
    "            qm_mat[i][j] = qm_matrix_normalization(prob_dict, i, j) * jac_mat[i][j]\n",
    "    return qm_mat\n",
    "\n",
    "\n",
    "\n",
    "\n",
    "test_qm = qm_Matrix(dummy, test_jac, hist_prob)\n",
    "test_qm"
   ]
  },
  {
   "cell_type": "markdown",
   "metadata": {},
   "source": [
    "# Epsilon Neighborhood Step"
   ]
  },
  {
   "cell_type": "code",
   "execution_count": 67,
   "metadata": {},
   "outputs": [
    {
     "data": {
      "text/plain": [
       "{0: [0, 1], 1: [0, 1], 2: [2]}"
      ]
     },
     "execution_count": 67,
     "metadata": {},
     "output_type": "execute_result"
    }
   ],
   "source": [
    "# given an epsilon, figures out which indexes are in the epsilon neighborhood of the matrix\n",
    "# basically for each row, we see which things in epsilon neighborhood then keep indexes,\n",
    "# which we then use to figure out probabilities of occurrence\n",
    "# qm matrix is gonna be symmetric, so we do calculations per column\n",
    "def epsilon_indexes(qm_matrix, epsilon):\n",
    "    col_indexes = {}\n",
    "    index_list = []\n",
    "    for i in range(qm_matrix.shape[0]):\n",
    "        for j in range(qm_matrix.shape[0]):\n",
    "            if qm_matrix[i][j] < epsilon:\n",
    "                index_list.append(j)\n",
    "        col_indexes[i] = index_list\n",
    "        index_list = []\n",
    "    return col_indexes\n",
    "\n",
    "test = epsilon_indexes(test_qm, 10)\n",
    "test"
   ]
  },
  {
   "cell_type": "code",
   "execution_count": 110,
   "metadata": {},
   "outputs": [],
   "source": [
    "# updates probability of given history\n",
    "# will cache rpt probabilities later\n",
    "def hist_prob_update(histories, epsilon_indexes, prob_vectors, idx):\n",
    "    pvecs = {}\n",
    "    for key in epsilon_indexes:\n",
    "        yesval = histories[key][idx]\n",
    "        yes = 0 \n",
    "        no = 0\n",
    "        for i in range(len(epsilon_indexes[key])):\n",
    "            histval = histories[key][epsilon_indexes[key][i]]\n",
    "            if yesval == histval:\n",
    "                yes = yes + 1\n",
    "            else:\n",
    "                no = no + 1\n",
    "        #print(yes,no)\n",
    "        prob = yes/(yes * 1.0 + no)\n",
    " \n",
    "        prob_vecs[key] = prob_vectors[key] * prob\n",
    "    return prob_vectors\n",
    "        \n",
    "#hist_prob_update(dummy, test, hist_prob, 1)"
   ]
  },
  {
   "cell_type": "code",
   "execution_count": 111,
   "metadata": {},
   "outputs": [
    {
     "name": "stdout",
     "output_type": "stream",
     "text": [
      "0 1\n",
      "1 1\n",
      "2 1\n",
      "0.333333333333\n",
      "yes reset\n",
      "1 0\n",
      "0 0\n",
      "0.5\n",
      "yes reset\n",
      "2 4\n",
      "0 4\n",
      "0.0\n",
      "yes reset\n"
     ]
    },
    {
     "data": {
      "text/plain": [
       "{0: 0.2222222222222222, 1: 0.16666666666666666, 2: 0.0}"
      ]
     },
     "execution_count": 111,
     "metadata": {},
     "output_type": "execute_result"
    }
   ],
   "source": [
    "# is quasi metric, have to do bigger test : test_dummy = np.asarray([[0,1,2],[1,0,4],[2,4,0]])\n",
    "epsilon = 3\n",
    "\n",
    "edxs = epsilon_indexes(test_dummy, 3)\n",
    "prob_vecs = {0:2/3.0,1:1/3.0, 2:1/3.0}\n",
    "pvecs = hist_prob_update(test_dummy, edxs, prob_vecs, 1)\n",
    "pvecs"
   ]
  }
 ],
 "metadata": {
  "kernelspec": {
   "display_name": "Python 2",
   "language": "python",
   "name": "python2"
  },
  "language_info": {
   "codemirror_mode": {
    "name": "ipython",
    "version": 2
   },
   "file_extension": ".py",
   "mimetype": "text/x-python",
   "name": "python",
   "nbconvert_exporter": "python",
   "pygments_lexer": "ipython2",
   "version": "2.7.14"
  }
 },
 "nbformat": 4,
 "nbformat_minor": 2
}
