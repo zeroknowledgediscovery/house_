{
 "cells": [
  {
   "cell_type": "code",
   "execution_count": 1,
   "metadata": {},
   "outputs": [],
   "source": [
    "import numpy as np\n",
    "import time"
   ]
  },
  {
   "cell_type": "markdown",
   "metadata": {},
   "source": [
    "## Definition 4"
   ]
  },
  {
   "cell_type": "code",
   "execution_count": 2,
   "metadata": {},
   "outputs": [],
   "source": [
    "def subword_subset(a,n):\n",
    "    \n",
    "    split_list = []\n",
    "    len_a = len(a)\n",
    "    for i in range(len_a):\n",
    "        delim = len_a - i\n",
    "        if delim < n:\n",
    "            break\n",
    "        split_list.append(a[i:i+n]) \n",
    "    return split_list\n",
    "\n",
    "def Omega(arr):\n",
    "\n",
    "#     t0 = time.time()\n",
    "    \n",
    "    subword_set = []\n",
    "    for i in range(1, len(arr)):\n",
    "        subword_set.extend(subword_subset(arr, i))\n",
    "    subword_set.append(arr)\n",
    "    \n",
    "#     t1 = time.time()\n",
    "#     print(\"Total time elapsed: \", t1-t0)\n",
    "    \n",
    "    return subword_set\n",
    "\n",
    "for i in range(10):\n",
    "    Omega('001010')"
   ]
  },
  {
   "cell_type": "code",
   "execution_count": 3,
   "metadata": {},
   "outputs": [
    {
     "name": "stdout",
     "output_type": "stream",
     "text": [
      "['0', '0', '1', '0', '1', '0', '00', '01', '10', '01', '10', '001', '010', '101', '010', '0010', '0101', '1010', '00101', '01010', '001010']\n"
     ]
    }
   ],
   "source": [
    "Omega1 = Omega('001010')\n",
    "print(Omega1)\n",
    "Omega2 = Omega('002020')"
   ]
  },
  {
   "cell_type": "markdown",
   "metadata": {},
   "source": [
    "## Previous implementation of Defn 4 \n",
    "##### Note the difference in efficiency "
   ]
  },
  {
   "cell_type": "code",
   "execution_count": 4,
   "metadata": {
    "scrolled": true
   },
   "outputs": [
    {
     "data": {
      "text/plain": [
       "array(['34', '3', '4'], dtype='|S2')"
      ]
     },
     "execution_count": 4,
     "metadata": {},
     "output_type": "execute_result"
    }
   ],
   "source": [
    "def subword_len(a,n=1):\n",
    "    \n",
    "    split_list = [a[i:i+n] for i in range(0, len(a), 1)]\n",
    "    \n",
    "    return [x  for x in split_list if len(x) == n and len(x)>0]\n",
    "\n",
    "def subword(a):\n",
    "    #t0 = time.time()\n",
    "    try:\n",
    "        b=[a]\n",
    "        nmax=len(a)\n",
    "        for n in range(nmax):\n",
    "            c=subword_len(a,n)\n",
    "            if len(c)>0:\n",
    "                b=np.append(b,c)\n",
    "        return b\n",
    "\n",
    "    except: \n",
    "        return b\n",
    "\n",
    "    #t1 = time.time()\n",
    "    #print(\"Total time elapsed: \", t1-t0)\n",
    "\n",
    "subword('34')\n",
    "# for i in range(10):\n",
    "#     print(subword('001010'))"
   ]
  },
  {
   "cell_type": "markdown",
   "metadata": {},
   "source": [
    "## Definition 5 - Jacard Similarity\n",
    "\n",
    "##### Same as prior implementation as per ishanuc"
   ]
  },
  {
   "cell_type": "code",
   "execution_count": 5,
   "metadata": {},
   "outputs": [],
   "source": [
    "def get_unweightedJac(S1,S2):\n",
    "    return (len(set(S1).union(S2))-len(set(S1).intersection(S2)))/(0.0+len(set(S1).union(S2)))"
   ]
  },
  {
   "cell_type": "markdown",
   "metadata": {},
   "source": [
    "# Definition 6 - Weighted Jacard Sequential Distance"
   ]
  },
  {
   "cell_type": "code",
   "execution_count": 6,
   "metadata": {},
   "outputs": [],
   "source": [
    "# need to take the sum of the weighting\n",
    "# Once this is finished, you can test individual parts then move onto putting it all together\n",
    "# def sum_weight():\n",
    "    \n",
    "    \n"
   ]
  },
  {
   "cell_type": "code",
   "execution_count": 7,
   "metadata": {},
   "outputs": [],
   "source": [
    "def get_weightedJac(S1,S2, sum_weight):\n",
    "    sum_weight_union = sum_weight(list(set(S1).union(S2)))\n",
    "    return (sum_weight_union - sum_weight(list(set(S1).intersection(S2))))/(0.0+sum_weight_union)"
   ]
  },
  {
   "cell_type": "markdown",
   "metadata": {},
   "source": [
    "# Generate rando data"
   ]
  },
  {
   "cell_type": "code",
   "execution_count": null,
   "metadata": {},
   "outputs": [],
   "source": []
  },
  {
   "cell_type": "code",
   "execution_count": 8,
   "metadata": {},
   "outputs": [],
   "source": [
    "# check out MP for jacard\n",
    "# mess with weighting"
   ]
  },
  {
   "cell_type": "code",
   "execution_count": null,
   "metadata": {},
   "outputs": [],
   "source": []
  },
  {
   "cell_type": "markdown",
   "metadata": {},
   "source": [
    "# Quasi Metric"
   ]
  },
  {
   "cell_type": "code",
   "execution_count": 9,
   "metadata": {},
   "outputs": [],
   "source": [
    "# p0_assign\n",
    "\n",
    "# Args:\n",
    "# prob_vec: np array of our population disease prevalence probabilities\n",
    "\n",
    "# Returns:\n",
    "# prob_dict: dictionary whose keys are disease codes and values are\n",
    "#            the associated probabilities\n",
    "\n",
    "# assigns population probabilities to disease code\n",
    "def p0_assign(prob_vec):\n",
    "    prob_dict = {}\n",
    "    for i in range(prob_vec.shape[0]):\n",
    "        prob_dict[i] = prob_vec[i]\n",
    "    return prob_dict\n"
   ]
  },
  {
   "cell_type": "code",
   "execution_count": 10,
   "metadata": {},
   "outputs": [],
   "source": [
    "# hist_probs\n",
    "\n",
    "# Args:\n",
    "# histories: np array of patient histories\n",
    "# prob_dict: dictionary whose keys are disease codes and values are\n",
    "#            the associated probabilities\n",
    "\n",
    "# Returns:\n",
    "# hist_probs: dictionary whose key is the patient history index and\n",
    "#             values are and the associated probabilities of each history\n",
    "\n",
    "# assigns probabilities to histories\n",
    "def hist_probs(histories, prob_dict):\n",
    "    hist_probs = {}\n",
    "    for i in range(histories.shape[0]):\n",
    "        hist_probs[i] = prob_dict[histories[i][0]]\n",
    "    return hist_probs\n"
   ]
  },
  {
   "cell_type": "code",
   "execution_count": 11,
   "metadata": {},
   "outputs": [],
   "source": [
    "# qm_matrix_normalization\n",
    "\n",
    "# Args:\n",
    "# hist_probs: dictionary whose key is the patient history index and\n",
    "#             values are and the associated probabilities of each history\n",
    "# i: given row index \n",
    "# j: given column index\n",
    "\n",
    "# Returns: the constant itself\n",
    "\n",
    "# calculates the constant for the quasi matrix\n",
    "def qm_matrix_normalization(hist_probs, i, j):\n",
    "    return .5 * (((1.0/hist_probs[i]) + (1.0/hist_probs[j])) - 2)\n"
   ]
  },
  {
   "cell_type": "code",
   "execution_count": 12,
   "metadata": {},
   "outputs": [],
   "source": [
    "# Args:\n",
    "# histories: np array of patient histories\n",
    "# hist_probs: dictionary whose key is the patient history index and\n",
    "#             values are and the associated probabilities of each history\n",
    "\n",
    "# Returns:\n",
    "# qm_mat: our quasi-metric matrix\n",
    "\n",
    "# creates our quasi-metric matrix - a probability adjusted jacard matrix in essence\n",
    "# with unweighted Jacard matrix\n",
    "def qm_Matrix(histories, hist_probs):\n",
    "    length = len(hist_probs)\n",
    "    qm_mat = np.zeros(shape = (length, length))\n",
    "    for i in range(length):\n",
    "        for j in range(length):\n",
    "            qm_mat[i][j] = qm_matrix_normalization(hist_probs, i, j) * get_unweightedJac(subword(histories[i]), subword(histories[j]))\n",
    "    return qm_mat\n"
   ]
  },
  {
   "cell_type": "markdown",
   "metadata": {},
   "source": [
    "# Epsilon Neighborhood Step"
   ]
  },
  {
   "cell_type": "code",
   "execution_count": 25,
   "metadata": {},
   "outputs": [],
   "source": [
    "# Args:\n",
    "# qm_mat: our quasi-metric matrix\n",
    "# epsilon: our selected epsilon value\n",
    "\n",
    "# Returns:\n",
    "# col_indexes: the indices, per column, of values in our quasi-matrix less than epsilon\n",
    "\n",
    "# given an epsilon, figures out which indexes are in the epsilon neighborhood of the matrix\n",
    "# basically for each row, we see which things in epsilon neighborhood then keep indexes,\n",
    "# which we then use to figure out probabilities of occurrence\n",
    "# qm matrix is gonna be symmetric, so we do calculations per column\n",
    "def epsilon_indexes(qm_mat, epsilon):\n",
    "    col_indexes = {}\n",
    "    index_list = []\n",
    "    for i in range(qm_mat.shape[0]):\n",
    "        for j in range(qm_mat.shape[0]):\n",
    "            if qm_mat[i][j] < epsilon:\n",
    "                index_list.append(j)\n",
    "        col_indexes[i] = index_list\n",
    "        index_list = []\n",
    "    return col_indexes\n"
   ]
  },
  {
   "cell_type": "code",
   "execution_count": 14,
   "metadata": {},
   "outputs": [],
   "source": [
    "# updates probability of given history\n",
    "# will cache rpt probabilities later\n",
    "def hist_prob_update(histories, ep_ind, hist_probs, idx):\n",
    "    #print ep_ind\n",
    "    #print hist_probs\n",
    "    pvecs = hist_probs\n",
    "    for key in ep_ind:\n",
    "        yesval = histories[key][idx]\n",
    "        #print \"This is our value we are comparing: \",yesval\n",
    "        yes = 0 \n",
    "        no = 0\n",
    "        for i in range(len(ep_ind[key])):\n",
    "            histval = histories[ep_ind[key][i]][idx]\n",
    "            #print histval\n",
    "            if yesval == histval:\n",
    "                yes = yes + 1\n",
    "            else:\n",
    "                no = no + 1\n",
    "            #print(yes, no)\n",
    "        prob = yes/(yes * 1.0 + no)\n",
    "        #print prob\n",
    "        pvecs[key] = pvecs[key] * prob\n",
    "    return pvecs\n",
    "        \n",
    "#hist_prob_update(dummy, test, hist_prob, 1)\n",
    "# print House(dummy, p0, 3)\n",
    "# print dummy"
   ]
  },
  {
   "cell_type": "code",
   "execution_count": 15,
   "metadata": {},
   "outputs": [],
   "source": [
    "# is quasi metric, have to do bigger test : \n",
    "\n",
    "p0 = np.asarray([0.1, 0.05, 0.05, 0.2, 0.4, 0.2])\n",
    "dummy = np.asarray([[2, 5, 5, 4, 3],[4, 4, 4, 1, 4], [4, 3, 5, 2, 3],[4, 2, 0, 0, 4],[4, 5, 0, 1, 0]])"
   ]
  },
  {
   "cell_type": "markdown",
   "metadata": {},
   "source": [
    "# Putting it all together"
   ]
  },
  {
   "cell_type": "code",
   "execution_count": 23,
   "metadata": {},
   "outputs": [],
   "source": [
    "def House(histories, p0, epsilon):\n",
    "    p0 = p0_assign(p0)\n",
    "    hist_prob = hist_probs(histories, p0)\n",
    "    for i in range(1,len(histories[0])):\n",
    "        qm = qm_Matrix(histories, hist_prob)\n",
    "        #print(qm)\n",
    "        epsilon_indices = epsilon_indexes(qm, epsilon)\n",
    "        #print(epsilon_indices)\n",
    "        hist_prob = hist_prob_update(histories, epsilon_indices, hist_prob, i)\n",
    "        #print(hist_prob)\n",
    "    return hist_prob\n"
   ]
  },
  {
   "cell_type": "code",
   "execution_count": 24,
   "metadata": {},
   "outputs": [
    {
     "name": "stdout",
     "output_type": "stream",
     "text": [
      "{0: 0.0125, 1: 0.1, 2: 0.04000000000000001, 3: 0.1, 4: 0.1}\n"
     ]
    }
   ],
   "source": [
    "print House(dummy, p0, 3)"
   ]
  },
  {
   "cell_type": "code",
   "execution_count": null,
   "metadata": {},
   "outputs": [],
   "source": [
    "print dummy"
   ]
  }
 ],
 "metadata": {
  "kernelspec": {
   "display_name": "Python 2",
   "language": "python",
   "name": "python2"
  },
  "language_info": {
   "codemirror_mode": {
    "name": "ipython",
    "version": 2
   },
   "file_extension": ".py",
   "mimetype": "text/x-python",
   "name": "python",
   "nbconvert_exporter": "python",
   "pygments_lexer": "ipython2",
   "version": "2.7.14"
  }
 },
 "nbformat": 4,
 "nbformat_minor": 2
}
