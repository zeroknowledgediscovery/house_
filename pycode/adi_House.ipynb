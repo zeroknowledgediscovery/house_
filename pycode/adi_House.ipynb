{
 "cells": [
  {
   "cell_type": "code",
   "execution_count": 108,
   "metadata": {},
   "outputs": [],
   "source": [
    "import numpy as np\n",
    "import time"
   ]
  },
  {
   "cell_type": "markdown",
   "metadata": {},
   "source": [
    "## Definition 4"
   ]
  },
  {
   "cell_type": "code",
   "execution_count": 170,
   "metadata": {},
   "outputs": [
    {
     "name": "stdout",
     "output_type": "stream",
     "text": [
      "('Total time elapsed: ', 3.981590270996094e-05)\n",
      "('Total time elapsed: ', 3.0040740966796875e-05)\n",
      "('Total time elapsed: ', 3.0994415283203125e-05)\n",
      "('Total time elapsed: ', 2.8133392333984375e-05)\n",
      "('Total time elapsed: ', 2.8133392333984375e-05)\n",
      "('Total time elapsed: ', 2.7179718017578125e-05)\n",
      "('Total time elapsed: ', 2.7179718017578125e-05)\n",
      "('Total time elapsed: ', 2.8848648071289062e-05)\n",
      "('Total time elapsed: ', 1.5974044799804688e-05)\n",
      "('Total time elapsed: ', 0.00013899803161621094)\n"
     ]
    }
   ],
   "source": [
    "def subword_subset(a,n):\n",
    "    \n",
    "    split_list = []\n",
    "    len_a = len(a)\n",
    "    for i in range(len_a):\n",
    "        delim = len_a - i\n",
    "        if delim < n:\n",
    "            break\n",
    "        split_list.append(a[i:i+n]) \n",
    "    return split_list\n",
    "\n",
    "def Omega(arr):\n",
    "\n",
    "    t0 = time.time()\n",
    "    \n",
    "    subword_set = []\n",
    "    for i in range(1, len(arr)):\n",
    "        subword_set.extend(subword_subset(arr, i))\n",
    "    subword_set.append(arr)\n",
    "    \n",
    "    t1 = time.time()\n",
    "    print(\"Total time elapsed: \", t1-t0)\n",
    "    \n",
    "    return subword_set\n",
    "\n",
    "for i in range(10):\n",
    "    subword_set('001010')"
   ]
  },
  {
   "cell_type": "code",
   "execution_count": 176,
   "metadata": {},
   "outputs": [
    {
     "name": "stdout",
     "output_type": "stream",
     "text": [
      "('Total time elapsed: ', 7.104873657226562e-05)\n",
      "('Total time elapsed: ', 2.9087066650390625e-05)\n"
     ]
    }
   ],
   "source": [
    "Omega1 = Omega('001010')\n",
    "Omega2 = Omega('002020')"
   ]
  },
  {
   "cell_type": "markdown",
   "metadata": {},
   "source": [
    "## Previous implementation of Defn 4 \n",
    "##### Note the difference in efficiency "
   ]
  },
  {
   "cell_type": "code",
   "execution_count": 154,
   "metadata": {},
   "outputs": [
    {
     "name": "stdout",
     "output_type": "stream",
     "text": [
      "('Total time elapsed: ', 0.0004458427429199219)\n",
      "('Total time elapsed: ', 0.0001900196075439453)\n",
      "('Total time elapsed: ', 0.0001399517059326172)\n",
      "('Total time elapsed: ', 0.00010800361633300781)\n",
      "('Total time elapsed: ', 7.796287536621094e-05)\n",
      "('Total time elapsed: ', 7.486343383789062e-05)\n",
      "('Total time elapsed: ', 7.486343383789062e-05)\n",
      "('Total time elapsed: ', 7.319450378417969e-05)\n",
      "('Total time elapsed: ', 7.295608520507812e-05)\n",
      "('Total time elapsed: ', 9.799003601074219e-05)\n"
     ]
    }
   ],
   "source": [
    "def subword_len(a,n=1):\n",
    "    \n",
    "    split_list = [a[i:i+n] for i in range(0, len(a), 1)]\n",
    "    \n",
    "    return [x  for x in split_list if len(x) == n and len(x)>0]\n",
    "\n",
    "def subword(a):\n",
    "    t0 = time.time()\n",
    "    b=[a]\n",
    "    nmax=len(a)\n",
    "    for n in range(nmax):\n",
    "        c=subword_len(a,n)\n",
    "        if len(c)>0:\n",
    "            b=np.append(b,c)\n",
    "    t1 = time.time()\n",
    "    print(\"Total time elapsed: \", t1-t0)\n",
    "\n",
    "    return b\n",
    "for i in range(10):\n",
    "    subword('001010')"
   ]
  },
  {
   "cell_type": "markdown",
   "metadata": {},
   "source": [
    "## Definition 5 - Jacard Similarity\n",
    "\n",
    "##### Same as prior implementation as per ishanuc"
   ]
  },
  {
   "cell_type": "code",
   "execution_count": 157,
   "metadata": {},
   "outputs": [],
   "source": [
    "def get_unweightedJac(S1,S2):\n",
    "    return (len(set(S1).union(S2))-len(set(S1).intersection(S2)))/(0.0+len(set(S1).union(S2)))"
   ]
  },
  {
   "cell_type": "markdown",
   "metadata": {},
   "source": [
    "# Definition 6 - Weighted Jacard Sequential Distance"
   ]
  },
  {
   "cell_type": "code",
   "execution_count": 206,
   "metadata": {},
   "outputs": [
    {
     "name": "stdout",
     "output_type": "stream",
     "text": [
      "('100 runs list: ', 0.0004334449768066406)\n",
      "('100 runs list alt: ', 0.00027871131896972656)\n",
      "('100 runs set: ', 0.00030517578125)\n"
     ]
    }
   ],
   "source": [
    "def sum_weight_list(a):\n",
    "    t0 = time.time()\n",
    "    for i in range(len(a)):\n",
    "        a[i]\n",
    "    t1 = time.time()\n",
    "   #print(\"list time: \", t1 - t0)\n",
    "    return t1 - t0\n",
    "\n",
    "def sum_weight_list_alt(a):\n",
    "    t0 = time.time()\n",
    "    for fish in a:\n",
    "        fish\n",
    "    t1 = time.time()\n",
    "    #print(\"list alt time: \", t1 - t0)\n",
    "    return t1 - t0\n",
    "    \n",
    "def sum_weight_set(a):\n",
    "    t0 = time.time()\n",
    "    for fish in a:\n",
    "        fish\n",
    "    t1 = time.time()\n",
    "    #print(\"set time: \", t1 - t0)\n",
    "    return t1 - t0\n",
    "\n",
    "listtime = 0\n",
    "listalttime = 0\n",
    "settime = 0\n",
    "for i in range(100):\n",
    "    listtime += sum_weight_list(list(set(Omega1).union(Omega2)))\n",
    "    listalttime += sum_weight_list_alt(list(set(Omega1).union(Omega2)))\n",
    "    settime += sum_weight_set(set(Omega1).union(Omega2))\n",
    "\n",
    "print(\"100 runs list: \", listtime)\n",
    "print(\"100 runs list alt: \", listalttime)\n",
    "print(\"100 runs set: \", settime)\n",
    "\n"
   ]
  },
  {
   "cell_type": "code",
   "execution_count": 169,
   "metadata": {},
   "outputs": [],
   "source": [
    "def get_weightedJac(S1,S2, weight):\n",
    "    sum_weight_union = sum_weight(list(set(S1).union(S2)))\n",
    "    return (sum_weight_union - sum_weight(list(set(S1).intersection(S2))))/(0.0+sum_weight_union)"
   ]
  },
  {
   "cell_type": "code",
   "execution_count": null,
   "metadata": {},
   "outputs": [],
   "source": []
  }
 ],
 "metadata": {
  "kernelspec": {
   "display_name": "Python 2",
   "language": "python",
   "name": "python2"
  },
  "language_info": {
   "codemirror_mode": {
    "name": "ipython",
    "version": 2
   },
   "file_extension": ".py",
   "mimetype": "text/x-python",
   "name": "python",
   "nbconvert_exporter": "python",
   "pygments_lexer": "ipython2",
   "version": "2.7.14"
  }
 },
 "nbformat": 4,
 "nbformat_minor": 2
}
