{
 "cells": [
  {
   "cell_type": "code",
   "execution_count": 1,
   "metadata": {},
   "outputs": [],
   "source": [
    "import numpy as np\n",
    "import time"
   ]
  },
  {
   "cell_type": "markdown",
   "metadata": {},
   "source": [
    "## Definition 4"
   ]
  },
  {
   "cell_type": "code",
   "execution_count": 3,
   "metadata": {},
   "outputs": [
    {
     "name": "stdout",
     "output_type": "stream",
     "text": [
      "('Total time elapsed: ', 4.1961669921875e-05)\n",
      "('Total time elapsed: ', 3.790855407714844e-05)\n",
      "('Total time elapsed: ', 3.886222839355469e-05)\n",
      "('Total time elapsed: ', 3.0040740966796875e-05)\n",
      "('Total time elapsed: ', 3.814697265625e-05)\n",
      "('Total time elapsed: ', 3.409385681152344e-05)\n",
      "('Total time elapsed: ', 3.0994415283203125e-05)\n",
      "('Total time elapsed: ', 2.9802322387695312e-05)\n",
      "('Total time elapsed: ', 3.2901763916015625e-05)\n",
      "('Total time elapsed: ', 3.2901763916015625e-05)\n"
     ]
    }
   ],
   "source": [
    "def subword_subset(a,n):\n",
    "    \n",
    "    split_list = []\n",
    "    len_a = len(a)\n",
    "    for i in range(len_a):\n",
    "        delim = len_a - i\n",
    "        if delim < n:\n",
    "            break\n",
    "        split_list.append(a[i:i+n]) \n",
    "    return split_list\n",
    "\n",
    "def Omega(arr):\n",
    "\n",
    "    t0 = time.time()\n",
    "    \n",
    "    subword_set = []\n",
    "    for i in range(1, len(arr)):\n",
    "        subword_set.extend(subword_subset(arr, i))\n",
    "    subword_set.append(arr)\n",
    "    \n",
    "    t1 = time.time()\n",
    "    print(\"Total time elapsed: \", t1-t0)\n",
    "    \n",
    "    return subword_set\n",
    "\n",
    "for i in range(10):\n",
    "    Omega('001010')"
   ]
  },
  {
   "cell_type": "code",
   "execution_count": 4,
   "metadata": {},
   "outputs": [
    {
     "name": "stdout",
     "output_type": "stream",
     "text": [
      "('Total time elapsed: ', 3.695487976074219e-05)\n",
      "('Total time elapsed: ', 3.0994415283203125e-05)\n"
     ]
    }
   ],
   "source": [
    "Omega1 = Omega('001010')\n",
    "Omega2 = Omega('002020')"
   ]
  },
  {
   "cell_type": "markdown",
   "metadata": {},
   "source": [
    "## Previous implementation of Defn 4 \n",
    "##### Note the difference in efficiency "
   ]
  },
  {
   "cell_type": "code",
   "execution_count": 5,
   "metadata": {},
   "outputs": [
    {
     "name": "stdout",
     "output_type": "stream",
     "text": [
      "('Total time elapsed: ', 0.00021791458129882812)\n",
      "('Total time elapsed: ', 0.000164031982421875)\n",
      "('Total time elapsed: ', 0.00014901161193847656)\n",
      "('Total time elapsed: ', 0.00015306472778320312)\n",
      "('Total time elapsed: ', 0.00014901161193847656)\n",
      "('Total time elapsed: ', 0.00015401840209960938)\n",
      "('Total time elapsed: ', 0.0001671314239501953)\n",
      "('Total time elapsed: ', 0.00013303756713867188)\n",
      "('Total time elapsed: ', 0.00015306472778320312)\n",
      "('Total time elapsed: ', 0.00014901161193847656)\n"
     ]
    }
   ],
   "source": [
    "def subword_len(a,n=1):\n",
    "    \n",
    "    split_list = [a[i:i+n] for i in range(0, len(a), 1)]\n",
    "    \n",
    "    return [x  for x in split_list if len(x) == n and len(x)>0]\n",
    "\n",
    "def subword(a):\n",
    "    t0 = time.time()\n",
    "    b=[a]\n",
    "    nmax=len(a)\n",
    "    for n in range(nmax):\n",
    "        c=subword_len(a,n)\n",
    "        if len(c)>0:\n",
    "            b=np.append(b,c)\n",
    "    t1 = time.time()\n",
    "    print(\"Total time elapsed: \", t1-t0)\n",
    "\n",
    "    return b\n",
    "for i in range(10):\n",
    "    subword('001010')"
   ]
  },
  {
   "cell_type": "markdown",
   "metadata": {},
   "source": [
    "## Definition 5 - Jacard Similarity\n",
    "\n",
    "##### Same as prior implementation as per ishanuc"
   ]
  },
  {
   "cell_type": "code",
   "execution_count": 6,
   "metadata": {},
   "outputs": [],
   "source": [
    "def get_unweightedJac(S1,S2):\n",
    "    return (len(set(S1).union(S2))-len(set(S1).intersection(S2)))/(0.0+len(set(S1).union(S2)))"
   ]
  },
  {
   "cell_type": "markdown",
   "metadata": {},
   "source": [
    "# Definition 6 - Weighted Jacard Sequential Distance"
   ]
  },
  {
   "cell_type": "code",
   "execution_count": 7,
   "metadata": {},
   "outputs": [
    {
     "name": "stdout",
     "output_type": "stream",
     "text": [
      "('100 runs list: ', 0.0003724098205566406)\n",
      "('100 runs list alt: ', 0.00019240379333496094)\n",
      "('100 runs set: ', 0.0002491474151611328)\n"
     ]
    }
   ],
   "source": [
    "def sum_weight_list(a):\n",
    "    t0 = time.time()\n",
    "    for i in range(len(a)):\n",
    "        a[i]\n",
    "    t1 = time.time()\n",
    "   #print(\"list time: \", t1 - t0)\n",
    "    return t1 - t0\n",
    "\n",
    "def sum_weight_list_alt(a):\n",
    "    t0 = time.time()\n",
    "    for fish in a:\n",
    "        fish\n",
    "    t1 = time.time()\n",
    "    #print(\"list alt time: \", t1 - t0)\n",
    "    return t1 - t0\n",
    "    \n",
    "def sum_weight_set(a):\n",
    "    t0 = time.time()\n",
    "    for fish in a:\n",
    "        fish\n",
    "    t1 = time.time()\n",
    "    #print(\"set time: \", t1 - t0)\n",
    "    return t1 - t0\n",
    "\n",
    "listtime = 0\n",
    "listalttime = 0\n",
    "settime = 0\n",
    "for i in range(100):\n",
    "    listtime += sum_weight_list(list(set(Omega1).union(Omega2)))\n",
    "    listalttime += sum_weight_list_alt(list(set(Omega1).union(Omega2)))\n",
    "    settime += sum_weight_set(set(Omega1).union(Omega2))\n",
    "\n",
    "print(\"100 runs list: \", listtime)\n",
    "print(\"100 runs list alt: \", listalttime)\n",
    "print(\"100 runs set: \", settime)"
   ]
  },
  {
   "cell_type": "code",
   "execution_count": 8,
   "metadata": {},
   "outputs": [],
   "source": [
    "def get_weightedJac(S1,S2, sum_weight):\n",
    "    sum_weight_union = sum_weight(list(set(S1).union(S2)))\n",
    "    return (sum_weight_union - sum_weight(list(set(S1).intersection(S2))))/(0.0+sum_weight_union)"
   ]
  },
  {
   "cell_type": "markdown",
   "metadata": {},
   "source": [
    "# Generate rando data"
   ]
  },
  {
   "cell_type": "code",
   "execution_count": 31,
   "metadata": {},
   "outputs": [
    {
     "data": {
      "text/plain": [
       "array([[4, 3, 4, 4, 4, 4, 4, 4, 4, 5],\n",
       "       [3, 0, 0, 1, 3, 3, 3, 4, 0, 0],\n",
       "       [3, 4, 3, 2, 0, 4, 1, 3, 0, 4],\n",
       "       [5, 4, 0, 4, 3, 0, 3, 4, 5, 4],\n",
       "       [4, 0, 4, 5, 4, 4, 3, 4, 5, 4],\n",
       "       [4, 1, 4, 4, 4, 3, 5, 3, 4, 4],\n",
       "       [4, 3, 5, 5, 4, 4, 3, 4, 4, 4],\n",
       "       [2, 0, 2, 5, 5, 5, 4, 4, 4, 1],\n",
       "       [1, 5, 3, 5, 5, 1, 4, 4, 3, 3],\n",
       "       [4, 4, 3, 4, 5, 4, 5, 3, 4, 4],\n",
       "       [0, 4, 3, 0, 0, 1, 3, 4, 1, 5],\n",
       "       [4, 0, 5, 4, 3, 5, 2, 5, 4, 0],\n",
       "       [4, 3, 2, 3, 4, 4, 3, 4, 3, 1],\n",
       "       [4, 4, 0, 0, 1, 4, 4, 5, 4, 4],\n",
       "       [5, 1, 3, 4, 4, 4, 5, 4, 3, 4],\n",
       "       [4, 2, 4, 4, 3, 4, 3, 3, 5, 4],\n",
       "       [4, 3, 4, 1, 3, 4, 3, 5, 4, 4],\n",
       "       [4, 0, 4, 2, 4, 4, 3, 3, 5, 5],\n",
       "       [5, 5, 4, 0, 1, 3, 3, 3, 3, 0],\n",
       "       [4, 4, 5, 4, 3, 4, 4, 0, 0, 3],\n",
       "       [5, 4, 0, 3, 4, 3, 3, 4, 5, 5],\n",
       "       [3, 3, 4, 4, 4, 4, 4, 4, 4, 4],\n",
       "       [3, 4, 4, 4, 4, 4, 2, 5, 4, 0],\n",
       "       [2, 0, 0, 1, 0, 4, 5, 0, 2, 4],\n",
       "       [4, 4, 2, 0, 4, 3, 5, 5, 4, 4],\n",
       "       [4, 1, 5, 2, 4, 4, 4, 2, 5, 4],\n",
       "       [4, 3, 5, 4, 5, 4, 5, 4, 5, 3],\n",
       "       [4, 4, 4, 4, 5, 4, 3, 0, 4, 4],\n",
       "       [4, 4, 4, 0, 3, 4, 4, 3, 4, 5],\n",
       "       [4, 5, 4, 4, 5, 4, 3, 1, 4, 4],\n",
       "       [4, 5, 0, 4, 4, 5, 0, 4, 0, 3],\n",
       "       [4, 4, 4, 3, 3, 5, 4, 0, 4, 5],\n",
       "       [3, 3, 4, 4, 0, 0, 4, 4, 1, 1],\n",
       "       [2, 5, 4, 3, 0, 5, 5, 0, 0, 0],\n",
       "       [1, 5, 5, 4, 3, 0, 3, 5, 2, 5],\n",
       "       [3, 3, 2, 4, 4, 4, 4, 3, 4, 4],\n",
       "       [5, 4, 5, 4, 5, 4, 4, 3, 5, 4],\n",
       "       [3, 0, 3, 5, 5, 3, 4, 3, 5, 4],\n",
       "       [5, 4, 4, 4, 4, 5, 4, 2, 3, 2],\n",
       "       [0, 4, 4, 3, 4, 4, 4, 5, 3, 3],\n",
       "       [3, 4, 3, 2, 4, 3, 4, 4, 4, 4],\n",
       "       [4, 2, 5, 3, 4, 4, 5, 4, 5, 4],\n",
       "       [5, 3, 5, 0, 3, 3, 0, 5, 3, 0],\n",
       "       [3, 1, 4, 5, 5, 5, 3, 4, 4, 3],\n",
       "       [4, 2, 3, 3, 5, 5, 4, 1, 5, 4],\n",
       "       [2, 5, 5, 4, 4, 4, 0, 3, 1, 2],\n",
       "       [5, 4, 5, 4, 1, 3, 4, 4, 1, 5],\n",
       "       [4, 4, 3, 4, 5, 2, 4, 0, 3, 4],\n",
       "       [5, 4, 4, 4, 4, 1, 3, 3, 4, 1],\n",
       "       [0, 4, 5, 3, 1, 4, 1, 4, 2, 5]])"
      ]
     },
     "execution_count": 31,
     "metadata": {},
     "output_type": "execute_result"
    }
   ],
   "source": [
    "p0 = [0.1, 0.05, 0.05, 0.2, 0.4, 0.2]\n",
    "dummy = np.random.choice(np.arange(0, 6), size = (50,10),p = p0)\n",
    "dummy"
   ]
  },
  {
   "cell_type": "code",
   "execution_count": 33,
   "metadata": {},
   "outputs": [
    {
     "name": "stdout",
     "output_type": "stream",
     "text": [
      "(50,)\n"
     ]
    }
   ],
   "source": [
    "print(dummy[:,0].shape)"
   ]
  },
  {
   "cell_type": "code",
   "execution_count": 34,
   "metadata": {},
   "outputs": [
    {
     "ename": "SyntaxError",
     "evalue": "invalid syntax (<ipython-input-34-cd0779db111b>, line 4)",
     "output_type": "error",
     "traceback": [
      "\u001b[0;36m  File \u001b[0;32m\"<ipython-input-34-cd0779db111b>\"\u001b[0;36m, line \u001b[0;32m4\u001b[0m\n\u001b[0;31m    for j in range(length)\u001b[0m\n\u001b[0m                          ^\u001b[0m\n\u001b[0;31mSyntaxError\u001b[0m\u001b[0;31m:\u001b[0m invalid syntax\n"
     ]
    }
   ],
   "source": [
    "# make sure to weight each sequence by population prevalence \n",
    "# (basically use the probability vector that we will be shifting around)\n",
    "# Implement the weighted Jacard Later\n",
    "\n",
    "def weight(p0_vector, i):\n",
    "    return 1/p0_vector[i]\n",
    "def weightedJacMatrix(vec, p0):\n",
    "    length = vec.shape[0]\n",
    "    jac_mat = np.zeros(shape = (length, length))\n",
    "    print(jac_mat)\n",
    "    for i in range(length):\n",
    "        for j in range(length:\n",
    "            jac_mat[i][j] = get_weightedJac(vec[i], vec[j])\n",
    "        \n",
    "            \n",
    "            "
   ]
  },
  {
   "cell_type": "code",
   "execution_count": 44,
   "metadata": {},
   "outputs": [
    {
     "name": "stdout",
     "output_type": "stream",
     "text": [
      "147.309617918\n",
      "140.851075926\n",
      "138.624095555\n",
      "126.117179742\n",
      "134.833299243\n"
     ]
    }
   ],
   "source": []
  }
 ],
 "metadata": {
  "kernelspec": {
   "display_name": "Python 2",
   "language": "python",
   "name": "python2"
  },
  "language_info": {
   "codemirror_mode": {
    "name": "ipython",
    "version": 2
   },
   "file_extension": ".py",
   "mimetype": "text/x-python",
   "name": "python",
   "nbconvert_exporter": "python",
   "pygments_lexer": "ipython2",
   "version": "2.7.14"
  }
 },
 "nbformat": 4,
 "nbformat_minor": 2
}
