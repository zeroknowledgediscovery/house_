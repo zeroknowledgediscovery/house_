{
 "cells": [
  {
   "cell_type": "code",
   "execution_count": 6,
   "metadata": {},
   "outputs": [],
   "source": [
    "import numpy as np\n",
    "import time"
   ]
  },
  {
   "cell_type": "markdown",
   "metadata": {},
   "source": [
    "## Definition 4"
   ]
  },
  {
   "cell_type": "code",
   "execution_count": 15,
   "metadata": {},
   "outputs": [],
   "source": [
    "def subword_subset(a,n):\n",
    "    \n",
    "    split_list = []\n",
    "    len_a = len(a)\n",
    "    for i in range(len_a):\n",
    "        delim = len_a - i\n",
    "        if delim < n:\n",
    "            break\n",
    "        split_list.append(a[i:i+n]) \n",
    "    return split_list\n",
    "\n",
    "def Omega(arr):\n",
    "\n",
    "#     t0 = time.time()\n",
    "    \n",
    "    subword_set = []\n",
    "    for i in range(1, len(arr)):\n",
    "        subword_set.extend(subword_subset(arr, i))\n",
    "    subword_set.append(arr)\n",
    "    \n",
    "#     t1 = time.time()\n",
    "#     print(\"Total time elapsed: \", t1-t0)\n",
    "    \n",
    "    return subword_set\n",
    "\n",
    "for i in range(10):\n",
    "    Omega('001010')"
   ]
  },
  {
   "cell_type": "code",
   "execution_count": 17,
   "metadata": {},
   "outputs": [
    {
     "name": "stdout",
     "output_type": "stream",
     "text": [
      "['0', '0', '1', '0', '1', '0', '00', '01', '10', '01', '10', '001', '010', '101', '010', '0010', '0101', '1010', '00101', '01010', '001010']\n"
     ]
    }
   ],
   "source": [
    "Omega1 = Omega('001010')\n",
    "print(Omega1)\n",
    "Omega2 = Omega('002020')"
   ]
  },
  {
   "cell_type": "markdown",
   "metadata": {},
   "source": [
    "## Previous implementation of Defn 4 \n",
    "##### Note the difference in efficiency "
   ]
  },
  {
   "cell_type": "code",
   "execution_count": 32,
   "metadata": {
    "scrolled": true
   },
   "outputs": [
    {
     "data": {
      "text/plain": [
       "array(['34', '3', '4'], dtype='|S2')"
      ]
     },
     "execution_count": 32,
     "metadata": {},
     "output_type": "execute_result"
    }
   ],
   "source": [
    "def subword_len(a,n=1):\n",
    "    \n",
    "    split_list = [a[i:i+n] for i in range(0, len(a), 1)]\n",
    "    \n",
    "    return [x  for x in split_list if len(x) == n and len(x)>0]\n",
    "\n",
    "def subword(a):\n",
    "    #t0 = time.time()\n",
    "    try:\n",
    "        b=[a]\n",
    "        nmax=len(a)\n",
    "        for n in range(nmax):\n",
    "            c=subword_len(a,n)\n",
    "            if len(c)>0:\n",
    "                b=np.append(b,c)\n",
    "        return b\n",
    "\n",
    "    except: \n",
    "        return b\n",
    "\n",
    "    #t1 = time.time()\n",
    "    #print(\"Total time elapsed: \", t1-t0)\n",
    "\n",
    "subword('34')\n",
    "# for i in range(10):\n",
    "#     print(subword('001010'))"
   ]
  },
  {
   "cell_type": "markdown",
   "metadata": {},
   "source": [
    "## Definition 5 - Jacard Similarity\n",
    "\n",
    "##### Same as prior implementation as per ishanuc"
   ]
  },
  {
   "cell_type": "code",
   "execution_count": 7,
   "metadata": {},
   "outputs": [],
   "source": [
    "def get_unweightedJac(S1,S2):\n",
    "    return (len(set(S1).union(S2))-len(set(S1).intersection(S2)))/(0.0+len(set(S1).union(S2)))"
   ]
  },
  {
   "cell_type": "markdown",
   "metadata": {},
   "source": [
    "# Definition 6 - Weighted Jacard Sequential Distance"
   ]
  },
  {
   "cell_type": "code",
   "execution_count": 7,
   "metadata": {},
   "outputs": [
    {
     "name": "stdout",
     "output_type": "stream",
     "text": [
      "('100 runs list: ', 0.0003724098205566406)\n",
      "('100 runs list alt: ', 0.00019240379333496094)\n",
      "('100 runs set: ', 0.0002491474151611328)\n"
     ]
    }
   ],
   "source": [
    "def sum_weight_list(a):\n",
    "    t0 = time.time()\n",
    "    for i in range(len(a)):\n",
    "        a[i]\n",
    "    t1 = time.time()\n",
    "   #print(\"list time: \", t1 - t0)\n",
    "    return t1 - t0\n",
    "\n",
    "def sum_weight_list_alt(a):\n",
    "    t0 = time.time()\n",
    "    for fish in a:\n",
    "        fish\n",
    "    t1 = time.time()\n",
    "    #print(\"list alt time: \", t1 - t0)\n",
    "    return t1 - t0\n",
    "    \n",
    "def sum_weight_set(a):\n",
    "    t0 = time.time()\n",
    "    for fish in a:\n",
    "        fish\n",
    "    t1 = time.time()\n",
    "    #print(\"set time: \", t1 - t0)\n",
    "    return t1 - t0\n",
    "\n",
    "listtime = 0\n",
    "listalttime = 0\n",
    "settime = 0\n",
    "for i in range(100):\n",
    "    listtime += sum_weight_list(list(set(Omega1).union(Omega2)))\n",
    "    listalttime += sum_weight_list_alt(list(set(Omega1).union(Omega2)))\n",
    "    settime += sum_weight_set(set(Omega1).union(Omega2))\n",
    "\n",
    "print(\"100 runs list: \", listtime)\n",
    "print(\"100 runs list alt: \", listalttime)\n",
    "print(\"100 runs set: \", settime)"
   ]
  },
  {
   "cell_type": "code",
   "execution_count": 8,
   "metadata": {},
   "outputs": [],
   "source": [
    "def get_weightedJac(S1,S2, sum_weight):\n",
    "    sum_weight_union = sum_weight(list(set(S1).union(S2)))\n",
    "    return (sum_weight_union - sum_weight(list(set(S1).intersection(S2))))/(0.0+sum_weight_union)"
   ]
  },
  {
   "cell_type": "markdown",
   "metadata": {},
   "source": [
    "# Generate rando data"
   ]
  },
  {
   "cell_type": "code",
   "execution_count": 9,
   "metadata": {},
   "outputs": [
    {
     "data": {
      "text/plain": [
       "array([[4, 5, 1, 4, 3, 2, 1, 3, 4, 0],\n",
       "       [4, 5, 4, 5, 4, 4, 3, 5, 5, 4],\n",
       "       [1, 1, 4, 1, 4, 3, 4, 0, 3, 4],\n",
       "       [3, 0, 3, 4, 4, 0, 5, 4, 0, 5],\n",
       "       [2, 0, 4, 5, 3, 4, 3, 5, 4, 3],\n",
       "       [4, 4, 4, 2, 3, 3, 2, 2, 5, 3],\n",
       "       [3, 4, 5, 5, 2, 4, 0, 3, 0, 5],\n",
       "       [4, 0, 3, 3, 5, 4, 4, 5, 4, 4],\n",
       "       [4, 4, 2, 3, 4, 4, 4, 3, 0, 4],\n",
       "       [4, 4, 5, 0, 4, 5, 3, 1, 5, 0]])"
      ]
     },
     "execution_count": 9,
     "metadata": {},
     "output_type": "execute_result"
    }
   ],
   "source": [
    "p0 = np.asarray([0.1, 0.05, 0.05, 0.2, 0.4, 0.2])\n",
    "dummy = np.random.choice(np.arange(0, 6), size = (10,10),p = p0)\n",
    "dummy"
   ]
  },
  {
   "cell_type": "code",
   "execution_count": 33,
   "metadata": {},
   "outputs": [
    {
     "name": "stdout",
     "output_type": "stream",
     "text": [
      "(50,)\n"
     ]
    }
   ],
   "source": [
    "print(dummy[:,0].shape)"
   ]
  },
  {
   "cell_type": "code",
   "execution_count": 45,
   "metadata": {},
   "outputs": [
    {
     "name": "stdout",
     "output_type": "stream",
     "text": [
      "[3 5 2 4 5 5 1 5 5 4]\n"
     ]
    },
    {
     "data": {
      "text/plain": [
       "array([[0.        , 0.5       , 0.4       , 0.4       , 0.2       ,\n",
       "        0.25      , 0.2       , 0.        , 0.4       , 0.2       ],\n",
       "       [0.5       , 0.        , 0.2       , 0.2       , 0.33333333,\n",
       "        0.4       , 0.33333333, 0.5       , 0.5       , 0.33333333],\n",
       "       [0.4       , 0.2       , 0.        , 0.        , 0.2       ,\n",
       "        0.25      , 0.2       , 0.4       , 0.66666667, 0.5       ],\n",
       "       [0.4       , 0.2       , 0.        , 0.        , 0.2       ,\n",
       "        0.25      , 0.2       , 0.4       , 0.66666667, 0.5       ],\n",
       "       [0.2       , 0.33333333, 0.2       , 0.2       , 0.        ,\n",
       "        0.4       , 0.        , 0.2       , 0.5       , 0.33333333],\n",
       "       [0.25      , 0.4       , 0.25      , 0.25      , 0.4       ,\n",
       "        0.        , 0.4       , 0.25      , 0.6       , 0.4       ],\n",
       "       [0.2       , 0.33333333, 0.2       , 0.2       , 0.        ,\n",
       "        0.4       , 0.        , 0.2       , 0.5       , 0.33333333],\n",
       "       [0.        , 0.5       , 0.4       , 0.4       , 0.2       ,\n",
       "        0.25      , 0.2       , 0.        , 0.4       , 0.2       ],\n",
       "       [0.4       , 0.5       , 0.66666667, 0.66666667, 0.5       ,\n",
       "        0.6       , 0.5       , 0.4       , 0.        , 0.2       ],\n",
       "       [0.2       , 0.33333333, 0.5       , 0.5       , 0.33333333,\n",
       "        0.4       , 0.33333333, 0.2       , 0.2       , 0.        ]])"
      ]
     },
     "execution_count": 45,
     "metadata": {},
     "output_type": "execute_result"
    }
   ],
   "source": [
    "# make sure to weight each sequence by population prevalence \n",
    "# (basically use the probability vector that we will be shifting around)\n",
    "# Implement the weighted Jacard Later\n",
    "\n",
    "def weight(p0_vector, i):\n",
    "    return 1/p0_vector[i]\n",
    "\n",
    "def jacMatrix(vec):\n",
    "    length = vec.shape[0]\n",
    "    jac_mat = np.zeros(shape = (length, length))\n",
    "    print(vec[1])\n",
    "    for i in range(length):\n",
    "        for j in range(length):\n",
    "            jac_mat[i][j] = get_unweightedJac(subword(vec[i]), subword(vec[j]))\n",
    "    return jac_mat\n",
    "                       \n",
    "test_jac = jacMatrix(dummy)\n",
    "test_jac\n",
    "                       \n",
    "                       \n",
    "        \n",
    "            \n",
    "            "
   ]
  },
  {
   "cell_type": "markdown",
   "metadata": {},
   "source": [
    "# Quasi Metric"
   ]
  },
  {
   "cell_type": "code",
   "execution_count": 10,
   "metadata": {},
   "outputs": [
    {
     "data": {
      "text/plain": [
       "{0: 0.1, 1: 0.05, 2: 0.05, 3: 0.2, 4: 0.4, 5: 0.2}"
      ]
     },
     "execution_count": 10,
     "metadata": {},
     "output_type": "execute_result"
    }
   ],
   "source": [
    "# reverse dictionary that assigns probability from original probability vector \n",
    "# to an index for use in next fn\n",
    "def prob_reverse(prob_vec):\n",
    "    rev_probs = {}\n",
    "    for i in range(prob_vec.shape[0]):\n",
    "        rev_probs[i] = prob_vec[i]\n",
    "    return rev_probs\n",
    "\n",
    "rev_dict = prob_reverse(p0)\n",
    "rev_dict"
   ]
  },
  {
   "cell_type": "code",
   "execution_count": 16,
   "metadata": {},
   "outputs": [
    {
     "data": {
      "text/plain": [
       "{0: 0.4,\n",
       " 1: 0.4,\n",
       " 2: 0.05,\n",
       " 3: 0.2,\n",
       " 4: 0.05,\n",
       " 5: 0.4,\n",
       " 6: 0.2,\n",
       " 7: 0.4,\n",
       " 8: 0.4,\n",
       " 9: 0.4}"
      ]
     },
     "execution_count": 16,
     "metadata": {},
     "output_type": "execute_result"
    }
   ],
   "source": [
    "# reverse dictionary that assigns probability to indexed history\n",
    "# we initialize this then we, in the future only edit the hist_prob_dict for future histories\n",
    "def hist_probs(histories, prob_dict):\n",
    "    hist_prob = {}\n",
    "    for i in range(histories.shape[0]):\n",
    "        hist_prob[i] = prob_dict[histories[i][0]]\n",
    "    return hist_prob\n",
    "\n",
    "hist_prob = hist_probs(dummy, rev_dict)\n",
    "hist_prob"
   ]
  },
  {
   "cell_type": "code",
   "execution_count": 18,
   "metadata": {},
   "outputs": [
    {
     "data": {
      "text/plain": [
       "1.5"
      ]
     },
     "execution_count": 18,
     "metadata": {},
     "output_type": "execute_result"
    }
   ],
   "source": [
    "# quasi metric matrix normalization constant\n",
    "def qm_matrix_normalization(hist_probs, i, j):\n",
    "    return .5 * (((1/hist_probs[i]) + (1/hist_probs[j])) - 2)\n",
    "test = qm_matrix_normalization(hist_prob, 1, 1)\n",
    "test"
   ]
  },
  {
   "cell_type": "code",
   "execution_count": 48,
   "metadata": {},
   "outputs": [
    {
     "ename": "TypeError",
     "evalue": "only integer scalar arrays can be converted to a scalar index",
     "output_type": "error",
     "traceback": [
      "\u001b[0;31m---------------------------------------------------------------------------\u001b[0m",
      "\u001b[0;31mTypeError\u001b[0m                                 Traceback (most recent call last)",
      "\u001b[0;32m<ipython-input-48-fea41ace4952>\u001b[0m in \u001b[0;36m<module>\u001b[0;34m()\u001b[0m\n\u001b[1;32m     14\u001b[0m     \u001b[0;32mreturn\u001b[0m \u001b[0mqm\u001b[0m\u001b[0;34m\u001b[0m\u001b[0m\n\u001b[1;32m     15\u001b[0m \u001b[0;34m\u001b[0m\u001b[0m\n\u001b[0;32m---> 16\u001b[0;31m \u001b[0mtest_qm\u001b[0m \u001b[0;34m=\u001b[0m \u001b[0mqm_Matrix\u001b[0m\u001b[0;34m(\u001b[0m\u001b[0mdummy\u001b[0m\u001b[0;34m,\u001b[0m \u001b[0mtest_jac\u001b[0m\u001b[0;34m,\u001b[0m \u001b[0mp0\u001b[0m\u001b[0;34m)\u001b[0m\u001b[0;34m\u001b[0m\u001b[0m\n\u001b[0m\u001b[1;32m     17\u001b[0m \u001b[0mtest_qm\u001b[0m\u001b[0;34m\u001b[0m\u001b[0m\n",
      "\u001b[0;32m<ipython-input-48-fea41ace4952>\u001b[0m in \u001b[0;36mqm_Matrix\u001b[0;34m(vec, jac_mat, prob_vec)\u001b[0m\n\u001b[1;32m     11\u001b[0m     \u001b[0;32mfor\u001b[0m \u001b[0mi\u001b[0m \u001b[0;32min\u001b[0m \u001b[0mrange\u001b[0m\u001b[0;34m(\u001b[0m\u001b[0mlength\u001b[0m\u001b[0;34m)\u001b[0m\u001b[0;34m:\u001b[0m\u001b[0;34m\u001b[0m\u001b[0m\n\u001b[1;32m     12\u001b[0m         \u001b[0;32mfor\u001b[0m \u001b[0mj\u001b[0m \u001b[0;32min\u001b[0m \u001b[0mrange\u001b[0m\u001b[0;34m(\u001b[0m\u001b[0mlength\u001b[0m\u001b[0;34m)\u001b[0m\u001b[0;34m:\u001b[0m\u001b[0;34m\u001b[0m\u001b[0m\n\u001b[0;32m---> 13\u001b[0;31m             \u001b[0mqm_mat\u001b[0m\u001b[0;34m[\u001b[0m\u001b[0mi\u001b[0m\u001b[0;34m]\u001b[0m\u001b[0;34m[\u001b[0m\u001b[0mj\u001b[0m\u001b[0;34m]\u001b[0m \u001b[0;34m=\u001b[0m \u001b[0mqm_matrix_normalization\u001b[0m\u001b[0;34m(\u001b[0m\u001b[0mprob_vec\u001b[0m\u001b[0;34m,\u001b[0m \u001b[0mvec\u001b[0m\u001b[0;34m[\u001b[0m\u001b[0mi\u001b[0m\u001b[0;34m]\u001b[0m\u001b[0;34m,\u001b[0m \u001b[0mvec\u001b[0m\u001b[0;34m[\u001b[0m\u001b[0mj\u001b[0m\u001b[0;34m]\u001b[0m\u001b[0;34m)\u001b[0m \u001b[0;34m*\u001b[0m \u001b[0mjac_mat\u001b[0m\u001b[0;34m[\u001b[0m\u001b[0mi\u001b[0m\u001b[0;34m]\u001b[0m\u001b[0;34m[\u001b[0m\u001b[0mj\u001b[0m\u001b[0;34m]\u001b[0m\u001b[0;34m\u001b[0m\u001b[0m\n\u001b[0m\u001b[1;32m     14\u001b[0m     \u001b[0;32mreturn\u001b[0m \u001b[0mqm\u001b[0m\u001b[0;34m\u001b[0m\u001b[0m\n\u001b[1;32m     15\u001b[0m \u001b[0;34m\u001b[0m\u001b[0m\n",
      "\u001b[0;32m<ipython-input-48-fea41ace4952>\u001b[0m in \u001b[0;36mqm_matrix_normalization\u001b[0;34m(prob_vec, i, j)\u001b[0m\n\u001b[1;32m      4\u001b[0m \u001b[0;31m# can combine later with jac_matrix maker so we dont have to do 2 runs of matrix\u001b[0m\u001b[0;34m\u001b[0m\u001b[0;34m\u001b[0m\u001b[0m\n\u001b[1;32m      5\u001b[0m \u001b[0;32mdef\u001b[0m \u001b[0mqm_matrix_normalization\u001b[0m\u001b[0;34m(\u001b[0m\u001b[0mprob_vec\u001b[0m\u001b[0;34m,\u001b[0m \u001b[0mi\u001b[0m\u001b[0;34m,\u001b[0m \u001b[0mj\u001b[0m\u001b[0;34m)\u001b[0m\u001b[0;34m:\u001b[0m\u001b[0;34m\u001b[0m\u001b[0m\n\u001b[0;32m----> 6\u001b[0;31m     \u001b[0;32mreturn\u001b[0m \u001b[0;36m.5\u001b[0m \u001b[0;34m*\u001b[0m \u001b[0;34m(\u001b[0m\u001b[0;34m(\u001b[0m\u001b[0;36m1\u001b[0m\u001b[0;34m/\u001b[0m\u001b[0mprob_vec\u001b[0m\u001b[0;34m[\u001b[0m\u001b[0mi\u001b[0m\u001b[0;34m]\u001b[0m\u001b[0;34m)\u001b[0m \u001b[0;34m+\u001b[0m \u001b[0;34m(\u001b[0m\u001b[0;36m1\u001b[0m\u001b[0;34m/\u001b[0m\u001b[0mprob_vec\u001b[0m\u001b[0;34m[\u001b[0m\u001b[0mj\u001b[0m\u001b[0;34m]\u001b[0m\u001b[0;34m)\u001b[0m \u001b[0;34m-\u001b[0m \u001b[0;36m2\u001b[0m\u001b[0;34m)\u001b[0m\u001b[0;34m\u001b[0m\u001b[0m\n\u001b[0m\u001b[1;32m      7\u001b[0m \u001b[0;34m\u001b[0m\u001b[0m\n\u001b[1;32m      8\u001b[0m \u001b[0;32mdef\u001b[0m \u001b[0mqm_Matrix\u001b[0m\u001b[0;34m(\u001b[0m\u001b[0mvec\u001b[0m\u001b[0;34m,\u001b[0m \u001b[0mjac_mat\u001b[0m\u001b[0;34m,\u001b[0m \u001b[0mprob_vec\u001b[0m\u001b[0;34m)\u001b[0m\u001b[0;34m:\u001b[0m\u001b[0;34m\u001b[0m\u001b[0m\n",
      "\u001b[0;31mTypeError\u001b[0m: only integer scalar arrays can be converted to a scalar index"
     ]
    }
   ],
   "source": [
    "\n",
    "\n",
    "\n",
    "# takes in jacard matrix and probabilty vector\n",
    "# returns quasi metric matrix\n",
    "# remember we have not used the weight fn, so this needs to be later implemented\n",
    "# can combine later with jac_matrix maker so we dont have to do 2 runs of matrix\n",
    "def qm_Matrix(vec, jac_mat, prob_vec):\n",
    "    length = jac_mat.shape[0]\n",
    "    qm_mat = np.zeros(shape = (length, length))\n",
    "    for i in range(length):\n",
    "        for j in range(length):\n",
    "            qm_mat[i][j] = qm_matrix_normalization(prob_vec, vec[i], vec[j]) * jac_mat[i][j]\n",
    "    return qm\n",
    "\n",
    "test_qm = qm_Matrix(dummy, test_jac, p0)\n",
    "test_qm"
   ]
  },
  {
   "cell_type": "code",
   "execution_count": null,
   "metadata": {},
   "outputs": [],
   "source": [
    "#"
   ]
  }
 ],
 "metadata": {
  "kernelspec": {
   "display_name": "Python 2",
   "language": "python",
   "name": "python2"
  },
  "language_info": {
   "codemirror_mode": {
    "name": "ipython",
    "version": 2
   },
   "file_extension": ".py",
   "mimetype": "text/x-python",
   "name": "python",
   "nbconvert_exporter": "python",
   "pygments_lexer": "ipython2",
   "version": "2.7.14"
  }
 },
 "nbformat": 4,
 "nbformat_minor": 2
}
