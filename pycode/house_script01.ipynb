{
 "cells": [
  {
   "cell_type": "code",
   "execution_count": 2,
   "metadata": {},
   "outputs": [],
   "source": [
    "import numpy as np"
   ]
  },
  {
   "cell_type": "code",
   "execution_count": 34,
   "metadata": {},
   "outputs": [],
   "source": [
    "def getOmega(input_string):\n",
    "    length = len(input_string)\n",
    "    return list(set([input_string[i:j+1] \n",
    "                     for i in xrange(length) for j in xrange(i,length)]))\n",
    "def get_unweightedJac(S1,S2):\n",
    "    return (len(set(S1).union(S2))-len(set(S1).intersection(S2)))/(0.0+len(set(S1).union(S2)))"
   ]
  },
  {
   "cell_type": "code",
   "execution_count": 36,
   "metadata": {},
   "outputs": [],
   "source": [
    "# D is the disease phenotype (type 1 diabetes)\n",
    "# \"disease\" and \"disease phenotype\" are identical"
   ]
  },
  {
   "cell_type": "code",
   "execution_count": 37,
   "metadata": {},
   "outputs": [],
   "source": [
    "O1=getOmega('0D000') # patient 1 : T1D in year 2\n",
    "O2=getOmega('00D00') # patient 2 : T1D in year 3"
   ]
  },
  {
   "cell_type": "code",
   "execution_count": 38,
   "metadata": {},
   "outputs": [
    {
     "name": "stdout",
     "output_type": "stream",
     "text": [
      "O1 ['00', 'D', 'D00', '0D000', '0D0', '0D00', '0', '000', '0D', 'D000', 'D0']\n",
      "O2 ['00D00', '00', 'D', '00D', 'D00', '0D0', '0D00', '0', '0D', '00D0', 'D0']\n"
     ]
    }
   ],
   "source": [
    "print \"O1\",O1\n",
    "print \"O2\",O2"
   ]
  },
  {
   "cell_type": "code",
   "execution_count": 39,
   "metadata": {},
   "outputs": [
    {
     "data": {
      "text/plain": [
       "0.42857142857142855"
      ]
     },
     "execution_count": 39,
     "metadata": {},
     "output_type": "execute_result"
    }
   ],
   "source": [
    "get_unweightedJac(O1,O2)"
   ]
  },
  {
   "cell_type": "code",
   "execution_count": null,
   "metadata": {},
   "outputs": [],
   "source": []
  }
 ],
 "metadata": {
  "kernelspec": {
   "display_name": "Python 2",
   "language": "python",
   "name": "python2"
  },
  "language_info": {
   "codemirror_mode": {
    "name": "ipython",
    "version": 2
   },
   "file_extension": ".py",
   "mimetype": "text/x-python",
   "name": "python",
   "nbconvert_exporter": "python",
   "pygments_lexer": "ipython2",
   "version": "2.7.13"
  }
 },
 "nbformat": 4,
 "nbformat_minor": 2
}
